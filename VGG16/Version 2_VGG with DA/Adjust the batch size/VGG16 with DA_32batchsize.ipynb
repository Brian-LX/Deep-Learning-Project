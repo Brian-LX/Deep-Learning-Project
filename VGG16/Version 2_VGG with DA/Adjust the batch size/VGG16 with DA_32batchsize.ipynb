{
 "cells": [
  {
   "cell_type": "code",
   "execution_count": 1,
   "metadata": {},
   "outputs": [
    {
     "name": "stderr",
     "output_type": "stream",
     "text": [
      "2024-04-10 23:27:41.892108: I tensorflow/core/platform/cpu_feature_guard.cc:182] This TensorFlow binary is optimized to use available CPU instructions in performance-critical operations.\n",
      "To enable the following instructions: AVX2 FMA, in other operations, rebuild TensorFlow with the appropriate compiler flags.\n",
      "2024-04-10 23:27:42.809810: W tensorflow/compiler/tf2tensorrt/utils/py_utils.cc:38] TF-TRT Warning: Could not find TensorRT\n"
     ]
    },
    {
     "name": "stdout",
     "output_type": "stream",
     "text": [
      "we are currently using tensorflow version 2.13.0\n"
     ]
    }
   ],
   "source": [
    "#basics\n",
    "import pandas as pd\n",
    "import numpy as np\n",
    "import tensorflow as tf\n",
    "import keras\n",
    "\n",
    "# visualisation\n",
    "import matplotlib.pyplot as plt\n",
    "import seaborn as sns\n",
    "\n",
    "#utility & processing\n",
    "from tensorflow.keras import utils\n",
    "from tensorflow.keras.utils import to_categorical\n",
    "from sklearn.model_selection import train_test_split\n",
    "\n",
    "#cnn architecture\n",
    "from tensorflow.keras.layers import Dense, Conv2D, MaxPooling2D, Flatten\n",
    "from tensorflow.keras.models import Sequential\n",
    "\n",
    "#callbacks\n",
    "from tensorflow.keras.callbacks import ModelCheckpoint, EarlyStopping\n",
    "\n",
    "#data augmentation\n",
    "from tensorflow.keras.preprocessing.image import ImageDataGenerator\n",
    "\n",
    "#keras tuner\n",
    "# import keras_tuner\n",
    "# from keras_tuner import RandomSearch\n",
    "# from keras_tuner.engine.hyperparameters import HyperParameters\n",
    "\n",
    "#transfer learning\n",
    "from keras.applications.vgg16 import VGG16\n",
    "\n",
    "#warnings\n",
    "import warnings\n",
    "warnings.filterwarnings('ignore')\n",
    "\n",
    "\n",
    "print('we are currently using tensorflow version', tf.__version__)"
   ]
  },
  {
   "cell_type": "code",
   "execution_count": 2,
   "metadata": {},
   "outputs": [],
   "source": [
    "train_dir = r'data/RiceLeafsDisease/train/'\n",
    "test_dir = r'data/RiceLeafsDisease/validation/'\n",
    "\n",
    "val_loss = list()\n",
    "val_accuracy = list()\n",
    "test_loss= list()\n",
    "test_accuracy = list()"
   ]
  },
  {
   "cell_type": "code",
   "execution_count": 3,
   "metadata": {},
   "outputs": [],
   "source": [
    "BATCH_SIZE = 32\n",
    "seeds = 41\n",
    "im_shape = (250,250)"
   ]
  },
  {
   "cell_type": "code",
   "execution_count": 4,
   "metadata": {},
   "outputs": [
    {
     "name": "stdout",
     "output_type": "stream",
     "text": [
      "Found 1680 images belonging to 6 classes.\n",
      "Found 420 images belonging to 6 classes.\n",
      "Found 528 images belonging to 6 classes.\n",
      "Classes: ['bacterial_leaf_blight', 'brown_spot', 'healthy', 'leaf_blast', 'leaf_scald', 'narrow_brown_spot']\n"
     ]
    }
   ],
   "source": [
    "# Load and preprocess the training data\n",
    "train_generator = ImageDataGenerator(rescale=1./255, rotation_range=40,shear_range=0.2, zoom_range=0.2,width_shift_range=0.2,horizontal_flip=True,validation_split=0.2)\n",
    "val_data_generator = ImageDataGenerator(rescale=1./255, rotation_range=40,shear_range=0.2, zoom_range=0.2,width_shift_range=0.2,horizontal_flip=True,validation_split=0.2)\n",
    "test_generator = ImageDataGenerator(rescale=1./255, rotation_range=40,shear_range=0.2, zoom_range=0.2,width_shift_range=0.2,horizontal_flip=True)\n",
    "\n",
    "# Generator of Train\n",
    "train_generator = train_generator.flow_from_directory(train_dir, target_size=im_shape, shuffle=True, seed=seeds,\n",
    "                                                     class_mode='categorical',color_mode='rgb', batch_size=BATCH_SIZE, subset=\"training\")\n",
    "# Generator of validation\n",
    "validation_generator = val_data_generator.flow_from_directory(train_dir, target_size=im_shape, shuffle=False, seed=seeds,\n",
    "                                                     class_mode='categorical',color_mode='rgb', batch_size=BATCH_SIZE, subset=\"validation\")\n",
    "\n",
    "# Generator of dataset test\n",
    "test_generator = test_generator.flow_from_directory(test_dir, target_size=im_shape, shuffle=False, seed=seeds,\n",
    "                                                     class_mode='categorical',color_mode='rgb', batch_size=BATCH_SIZE)\n",
    "\n",
    "nb_train_samples = train_generator.samples\n",
    "nb_validation_samples = validation_generator.samples\n",
    "nb_test_samples = test_generator.samples\n",
    "classes = list(train_generator.class_indices.keys())\n",
    "print('Classes: '+str(classes))\n",
    "num_classes  = len(classes)\n"
   ]
  },
  {
   "cell_type": "markdown",
   "metadata": {},
   "source": [
    "## VGG16"
   ]
  },
  {
   "cell_type": "code",
   "execution_count": 5,
   "metadata": {},
   "outputs": [],
   "source": [
    "from tensorflow.keras.applications import VGG16"
   ]
  },
  {
   "cell_type": "code",
   "execution_count": 6,
   "metadata": {},
   "outputs": [
    {
     "name": "stderr",
     "output_type": "stream",
     "text": [
      "2024-04-10 23:27:52.373610: I tensorflow/compiler/xla/stream_executor/cuda/cuda_gpu_executor.cc:995] successful NUMA node read from SysFS had negative value (-1), but there must be at least one NUMA node, so returning NUMA node zero. See more at https://github.com/torvalds/linux/blob/v6.0/Documentation/ABI/testing/sysfs-bus-pci#L344-L355\n",
      "2024-04-10 23:27:52.387341: I tensorflow/compiler/xla/stream_executor/cuda/cuda_gpu_executor.cc:995] successful NUMA node read from SysFS had negative value (-1), but there must be at least one NUMA node, so returning NUMA node zero. See more at https://github.com/torvalds/linux/blob/v6.0/Documentation/ABI/testing/sysfs-bus-pci#L344-L355\n",
      "2024-04-10 23:27:52.387585: I tensorflow/compiler/xla/stream_executor/cuda/cuda_gpu_executor.cc:995] successful NUMA node read from SysFS had negative value (-1), but there must be at least one NUMA node, so returning NUMA node zero. See more at https://github.com/torvalds/linux/blob/v6.0/Documentation/ABI/testing/sysfs-bus-pci#L344-L355\n",
      "2024-04-10 23:27:52.388587: I tensorflow/compiler/xla/stream_executor/cuda/cuda_gpu_executor.cc:995] successful NUMA node read from SysFS had negative value (-1), but there must be at least one NUMA node, so returning NUMA node zero. See more at https://github.com/torvalds/linux/blob/v6.0/Documentation/ABI/testing/sysfs-bus-pci#L344-L355\n",
      "2024-04-10 23:27:52.388843: I tensorflow/compiler/xla/stream_executor/cuda/cuda_gpu_executor.cc:995] successful NUMA node read from SysFS had negative value (-1), but there must be at least one NUMA node, so returning NUMA node zero. See more at https://github.com/torvalds/linux/blob/v6.0/Documentation/ABI/testing/sysfs-bus-pci#L344-L355\n",
      "2024-04-10 23:27:52.389068: I tensorflow/compiler/xla/stream_executor/cuda/cuda_gpu_executor.cc:995] successful NUMA node read from SysFS had negative value (-1), but there must be at least one NUMA node, so returning NUMA node zero. See more at https://github.com/torvalds/linux/blob/v6.0/Documentation/ABI/testing/sysfs-bus-pci#L344-L355\n",
      "2024-04-10 23:27:53.355685: I tensorflow/compiler/xla/stream_executor/cuda/cuda_gpu_executor.cc:995] successful NUMA node read from SysFS had negative value (-1), but there must be at least one NUMA node, so returning NUMA node zero. See more at https://github.com/torvalds/linux/blob/v6.0/Documentation/ABI/testing/sysfs-bus-pci#L344-L355\n",
      "2024-04-10 23:27:53.355939: I tensorflow/compiler/xla/stream_executor/cuda/cuda_gpu_executor.cc:995] successful NUMA node read from SysFS had negative value (-1), but there must be at least one NUMA node, so returning NUMA node zero. See more at https://github.com/torvalds/linux/blob/v6.0/Documentation/ABI/testing/sysfs-bus-pci#L344-L355\n",
      "2024-04-10 23:27:53.356123: I tensorflow/compiler/xla/stream_executor/cuda/cuda_gpu_executor.cc:995] successful NUMA node read from SysFS had negative value (-1), but there must be at least one NUMA node, so returning NUMA node zero. See more at https://github.com/torvalds/linux/blob/v6.0/Documentation/ABI/testing/sysfs-bus-pci#L344-L355\n",
      "2024-04-10 23:27:53.356240: W tensorflow/core/common_runtime/gpu/gpu_bfc_allocator.cc:47] Overriding orig_value setting because the TF_FORCE_GPU_ALLOW_GROWTH environment variable is set. Original config value was 0.\n",
      "2024-04-10 23:27:53.356278: I tensorflow/core/common_runtime/gpu/gpu_device.cc:1639] Created device /job:localhost/replica:0/task:0/device:GPU:0 with 7319 MB memory:  -> device: 0, name: NVIDIA GeForce RTX 3060, pci bus id: 0000:10:00.0, compute capability: 8.6\n"
     ]
    }
   ],
   "source": [
    "vgg_base = VGG16(  \n",
    "    include_top=False,  \n",
    "    weights='imagenet',  \n",
    "    input_shape=(250, 250, 3),  \n",
    ")  \n",
    "  \n",
    "# 设置vgg_base模型为可训练  \n",
    "vgg_base.trainable = False  \n",
    "  \n",
    "# 设置一个标志来控制从哪个层开始将层设置为可训练  \n",
    "set_trainable = False  \n",
    "  \n",
    "# 遍历vgg_base的层，并设置从'block5_conv1'开始的层为可训练  \n",
    "for layer in vgg_base.layers:  \n",
    "    if layer.name == 'block5_conv1':  \n",
    "        set_trainable = True  \n",
    "    if set_trainable:  \n",
    "        layer.trainable = True  \n",
    "  \n",
    "# 构建全连接层模型  \n",
    "vgg_model = Sequential()  \n",
    "  \n",
    "# 添加vgg_base模型  \n",
    "vgg_model.add(vgg_base)  \n",
    "  \n",
    "# 添加Flatten层以将卷积层的输出展平  \n",
    "vgg_model.add(Flatten())  \n",
    "  \n",
    "# 添加第一个全连接层，具有200个神经元和ReLU激活函数  \n",
    "vgg_model.add(Dense(200, activation='relu'))  \n",
    "  \n",
    "# 添加输出层，具有6个神经元和softmax激活函数，假设有6个类别  \n",
    "vgg_model.add(Dense(6, activation='softmax'))  \n",
    "  \n",
    "# 编译模型  \n",
    "vgg_model.compile(optimizer='adam', loss='categorical_crossentropy', metrics=['accuracy'])"
   ]
  },
  {
   "cell_type": "code",
   "execution_count": 7,
   "metadata": {},
   "outputs": [
    {
     "name": "stdout",
     "output_type": "stream",
     "text": [
      "Model: \"sequential\"\n",
      "_________________________________________________________________\n",
      " Layer (type)                Output Shape              Param #   \n",
      "=================================================================\n",
      " vgg16 (Functional)          (None, 7, 7, 512)         14714688  \n",
      "                                                                 \n",
      " flatten (Flatten)           (None, 25088)             0         \n",
      "                                                                 \n",
      " dense (Dense)               (None, 200)               5017800   \n",
      "                                                                 \n",
      " dense_1 (Dense)             (None, 6)                 1206      \n",
      "                                                                 \n",
      "=================================================================\n",
      "Total params: 19733694 (75.28 MB)\n",
      "Trainable params: 5019006 (19.15 MB)\n",
      "Non-trainable params: 14714688 (56.13 MB)\n",
      "_________________________________________________________________\n"
     ]
    }
   ],
   "source": [
    "vgg_model.summary()"
   ]
  },
  {
   "cell_type": "code",
   "execution_count": 8,
   "metadata": {},
   "outputs": [],
   "source": [
    "#compiling \n",
    "vgg_model.compile(optimizer='adam', loss='categorical_crossentropy', metrics=['accuracy'])"
   ]
  },
  {
   "cell_type": "code",
   "execution_count": 9,
   "metadata": {},
   "outputs": [],
   "source": [
    "import time\n",
    "# Record the start time of training\n",
    "start_time = time.time()"
   ]
  },
  {
   "cell_type": "code",
   "execution_count": 10,
   "metadata": {},
   "outputs": [
    {
     "name": "stdout",
     "output_type": "stream",
     "text": [
      "Epoch 1/10\n"
     ]
    },
    {
     "name": "stderr",
     "output_type": "stream",
     "text": [
      "2024-04-10 23:28:10.790321: I tensorflow/compiler/xla/stream_executor/cuda/cuda_dnn.cc:432] Loaded cuDNN version 8600\n",
      "2024-04-10 23:28:13.064559: I tensorflow/compiler/xla/stream_executor/cuda/cuda_blas.cc:606] TensorFloat-32 will be used for the matrix multiplication. This will only be logged once.\n",
      "2024-04-10 23:28:13.074788: I tensorflow/compiler/xla/service/service.cc:168] XLA service 0x1d6639f0 initialized for platform CUDA (this does not guarantee that XLA will be used). Devices:\n",
      "2024-04-10 23:28:13.074852: I tensorflow/compiler/xla/service/service.cc:176]   StreamExecutor device (0): NVIDIA GeForce RTX 3060, Compute Capability 8.6\n",
      "2024-04-10 23:28:13.085250: I tensorflow/compiler/mlir/tensorflow/utils/dump_mlir_util.cc:255] disabling MLIR crash reproducer, set env var `MLIR_CRASH_REPRODUCER_DIRECTORY` to enable.\n",
      "2024-04-10 23:28:13.279620: I ./tensorflow/compiler/jit/device_compiler.h:186] Compiled cluster using XLA!  This line is logged at most once for the lifetime of the process.\n"
     ]
    },
    {
     "name": "stdout",
     "output_type": "stream",
     "text": [
      "52/52 [==============================] - ETA: 0s - loss: 1.5159 - accuracy: 0.5309\n",
      "Epoch 1: val_loss improved from inf to 1.37019, saving model to vgg_model_32batchsize.h5\n",
      "52/52 [==============================] - 51s 880ms/step - loss: 1.5159 - accuracy: 0.5309 - val_loss: 1.3702 - val_accuracy: 0.4543\n",
      "Epoch 2/10\n",
      "52/52 [==============================] - ETA: 0s - loss: 0.8188 - accuracy: 0.6966\n",
      "Epoch 2: val_loss improved from 1.37019 to 0.79802, saving model to vgg_model_32batchsize.h5\n",
      "52/52 [==============================] - 49s 938ms/step - loss: 0.8188 - accuracy: 0.6966 - val_loss: 0.7980 - val_accuracy: 0.6947\n",
      "Epoch 3/10\n",
      "52/52 [==============================] - ETA: 0s - loss: 0.6542 - accuracy: 0.7718\n",
      "Epoch 3: val_loss improved from 0.79802 to 0.79040, saving model to vgg_model_32batchsize.h5\n",
      "52/52 [==============================] - 49s 947ms/step - loss: 0.6542 - accuracy: 0.7718 - val_loss: 0.7904 - val_accuracy: 0.6731\n",
      "Epoch 4/10\n",
      "52/52 [==============================] - ETA: 0s - loss: 0.5745 - accuracy: 0.7900\n",
      "Epoch 4: val_loss improved from 0.79040 to 0.71882, saving model to vgg_model_32batchsize.h5\n",
      "52/52 [==============================] - 49s 953ms/step - loss: 0.5745 - accuracy: 0.7900 - val_loss: 0.7188 - val_accuracy: 0.7404\n",
      "Epoch 5/10\n",
      "52/52 [==============================] - ETA: 0s - loss: 0.5547 - accuracy: 0.7876\n",
      "Epoch 5: val_loss did not improve from 0.71882\n",
      "52/52 [==============================] - 45s 873ms/step - loss: 0.5547 - accuracy: 0.7876 - val_loss: 0.7782 - val_accuracy: 0.7428\n",
      "Epoch 6/10\n",
      "52/52 [==============================] - ETA: 0s - loss: 0.4941 - accuracy: 0.8064\n",
      "Epoch 6: val_loss improved from 0.71882 to 0.65829, saving model to vgg_model_32batchsize.h5\n",
      "52/52 [==============================] - 51s 985ms/step - loss: 0.4941 - accuracy: 0.8064 - val_loss: 0.6583 - val_accuracy: 0.7572\n",
      "Epoch 7/10\n",
      "52/52 [==============================] - ETA: 0s - loss: 0.4316 - accuracy: 0.8434\n",
      "Epoch 7: val_loss improved from 0.65829 to 0.61385, saving model to vgg_model_32batchsize.h5\n",
      "52/52 [==============================] - 46s 877ms/step - loss: 0.4316 - accuracy: 0.8434 - val_loss: 0.6139 - val_accuracy: 0.7909\n",
      "Epoch 8/10\n",
      "52/52 [==============================] - ETA: 0s - loss: 0.4871 - accuracy: 0.8198\n",
      "Epoch 8: val_loss did not improve from 0.61385\n",
      "52/52 [==============================] - 45s 863ms/step - loss: 0.4871 - accuracy: 0.8198 - val_loss: 0.7562 - val_accuracy: 0.7260\n",
      "Epoch 9/10\n",
      "52/52 [==============================] - ETA: 0s - loss: 0.3868 - accuracy: 0.8483\n",
      "Epoch 9: val_loss did not improve from 0.61385\n",
      "52/52 [==============================] - 46s 890ms/step - loss: 0.3868 - accuracy: 0.8483 - val_loss: 0.6736 - val_accuracy: 0.7572\n",
      "Epoch 10/10\n",
      "52/52 [==============================] - ETA: 0s - loss: 0.4311 - accuracy: 0.8441\n",
      "Epoch 10: val_loss did not improve from 0.61385\n",
      "52/52 [==============================] - 44s 851ms/step - loss: 0.4311 - accuracy: 0.8441 - val_loss: 0.6568 - val_accuracy: 0.7909\n"
     ]
    }
   ],
   "source": [
    "# Train the model\n",
    "epochs = 10\n",
    "\n",
    "#Callback to save the best model\n",
    "callbacks_list = [\n",
    "    keras.callbacks.ModelCheckpoint(\n",
    "        filepath='vgg_model_32batchsize.h5',\n",
    "        monitor='val_loss', save_best_only=True, verbose=1)\n",
    "]\n",
    "\n",
    "#Training\n",
    "history = vgg_model.fit(\n",
    "        train_generator,\n",
    "        steps_per_epoch=nb_train_samples // 32,\n",
    "        epochs=epochs,\n",
    "        callbacks = callbacks_list,\n",
    "        validation_data=validation_generator,\n",
    "        verbose = 1,\n",
    "        validation_steps=nb_validation_samples // 32)"
   ]
  },
  {
   "cell_type": "code",
   "execution_count": 13,
   "metadata": {},
   "outputs": [],
   "source": [
    "# Record the training end time\n",
    "end_time = time.time()"
   ]
  },
  {
   "cell_type": "code",
   "execution_count": 14,
   "metadata": {},
   "outputs": [
    {
     "name": "stdout",
     "output_type": "stream",
     "text": [
      "Training time: 686.4912266731262 seconds\n"
     ]
    }
   ],
   "source": [
    "training_time = end_time - start_time\n",
    "print(f\"Training time: {training_time} seconds\")"
   ]
  },
  {
   "cell_type": "code",
   "execution_count": 15,
   "metadata": {},
   "outputs": [
    {
     "data": {
      "text/html": [
       "<div>\n",
       "<style scoped>\n",
       "    .dataframe tbody tr th:only-of-type {\n",
       "        vertical-align: middle;\n",
       "    }\n",
       "\n",
       "    .dataframe tbody tr th {\n",
       "        vertical-align: top;\n",
       "    }\n",
       "\n",
       "    .dataframe thead th {\n",
       "        text-align: right;\n",
       "    }\n",
       "</style>\n",
       "<table border=\"1\" class=\"dataframe\">\n",
       "  <thead>\n",
       "    <tr style=\"text-align: right;\">\n",
       "      <th></th>\n",
       "      <th>loss</th>\n",
       "      <th>accuracy</th>\n",
       "      <th>val_loss</th>\n",
       "      <th>val_accuracy</th>\n",
       "    </tr>\n",
       "  </thead>\n",
       "  <tbody>\n",
       "    <tr>\n",
       "      <th>0</th>\n",
       "      <td>1.515937</td>\n",
       "      <td>0.530947</td>\n",
       "      <td>1.370192</td>\n",
       "      <td>0.454327</td>\n",
       "    </tr>\n",
       "    <tr>\n",
       "      <th>1</th>\n",
       "      <td>0.818752</td>\n",
       "      <td>0.696602</td>\n",
       "      <td>0.798020</td>\n",
       "      <td>0.694712</td>\n",
       "    </tr>\n",
       "    <tr>\n",
       "      <th>2</th>\n",
       "      <td>0.654181</td>\n",
       "      <td>0.771845</td>\n",
       "      <td>0.790398</td>\n",
       "      <td>0.673077</td>\n",
       "    </tr>\n",
       "    <tr>\n",
       "      <th>3</th>\n",
       "      <td>0.574453</td>\n",
       "      <td>0.790049</td>\n",
       "      <td>0.718817</td>\n",
       "      <td>0.740385</td>\n",
       "    </tr>\n",
       "    <tr>\n",
       "      <th>4</th>\n",
       "      <td>0.554743</td>\n",
       "      <td>0.787621</td>\n",
       "      <td>0.778162</td>\n",
       "      <td>0.742788</td>\n",
       "    </tr>\n",
       "    <tr>\n",
       "      <th>5</th>\n",
       "      <td>0.494064</td>\n",
       "      <td>0.806432</td>\n",
       "      <td>0.658294</td>\n",
       "      <td>0.757212</td>\n",
       "    </tr>\n",
       "    <tr>\n",
       "      <th>6</th>\n",
       "      <td>0.431621</td>\n",
       "      <td>0.843447</td>\n",
       "      <td>0.613853</td>\n",
       "      <td>0.790865</td>\n",
       "    </tr>\n",
       "    <tr>\n",
       "      <th>7</th>\n",
       "      <td>0.487084</td>\n",
       "      <td>0.819782</td>\n",
       "      <td>0.756158</td>\n",
       "      <td>0.725962</td>\n",
       "    </tr>\n",
       "    <tr>\n",
       "      <th>8</th>\n",
       "      <td>0.386846</td>\n",
       "      <td>0.848301</td>\n",
       "      <td>0.673609</td>\n",
       "      <td>0.757212</td>\n",
       "    </tr>\n",
       "    <tr>\n",
       "      <th>9</th>\n",
       "      <td>0.431100</td>\n",
       "      <td>0.844053</td>\n",
       "      <td>0.656846</td>\n",
       "      <td>0.790865</td>\n",
       "    </tr>\n",
       "  </tbody>\n",
       "</table>\n",
       "</div>"
      ],
      "text/plain": [
       "       loss  accuracy  val_loss  val_accuracy\n",
       "0  1.515937  0.530947  1.370192      0.454327\n",
       "1  0.818752  0.696602  0.798020      0.694712\n",
       "2  0.654181  0.771845  0.790398      0.673077\n",
       "3  0.574453  0.790049  0.718817      0.740385\n",
       "4  0.554743  0.787621  0.778162      0.742788\n",
       "5  0.494064  0.806432  0.658294      0.757212\n",
       "6  0.431621  0.843447  0.613853      0.790865\n",
       "7  0.487084  0.819782  0.756158      0.725962\n",
       "8  0.386846  0.848301  0.673609      0.757212\n",
       "9  0.431100  0.844053  0.656846      0.790865"
      ]
     },
     "execution_count": 15,
     "metadata": {},
     "output_type": "execute_result"
    }
   ],
   "source": [
    "pd.DataFrame(history.history)"
   ]
  },
  {
   "cell_type": "code",
   "execution_count": 16,
   "metadata": {},
   "outputs": [],
   "source": [
    "import joblib\n",
    "\n",
    "joblib.dump(history.history,'history_VGG_32batchsize.pkl')\n",
    "history_CNN2 = joblib.load('history_VGG_32batchsize.pkl')"
   ]
  },
  {
   "cell_type": "code",
   "execution_count": 17,
   "metadata": {},
   "outputs": [
    {
     "data": {
      "image/png": "[encoded data removed]",
      "text/plain": [
       "<Figure size 1200x500 with 2 Axes>"
      ]
     },
     "metadata": {},
     "output_type": "display_data"
    }
   ],
   "source": [
    "#Training accuracy and validation accuracy graph\n",
    "plt.figure(figsize=(12, 5))\n",
    "\n",
    "plt.subplot(1, 2, 1)\n",
    "plt.plot(history_CNN2['accuracy'])\n",
    "plt.plot(history_CNN2['val_accuracy'])\n",
    "plt.title('Model Accuracy')\n",
    "plt.xlabel('Epoch')\n",
    "plt.ylabel('Accuracy')\n",
    "plt.ylim(0.1, 1)\n",
    "plt.legend(['Training Accuracy', 'Validation Accuracy'], loc ='lower right')\n",
    "\n",
    "plt.subplot(1, 2, 2)\n",
    "plt.plot(history_CNN2['loss'])\n",
    "plt.plot(history_CNN2['val_loss'])\n",
    "plt.title('Model Loss')\n",
    "plt.xlabel('Epoch')\n",
    "plt.ylabel('Loss')\n",
    "plt.legend(['Training Loss', 'Validation Loss'], loc ='upper right')\n",
    "\n",
    "plt.show()"
   ]
  },
  {
   "cell_type": "code",
   "execution_count": 28,
   "metadata": {},
   "outputs": [
    {
     "data": {
      "image/png": "[encoded data removed]",
      "text/plain": [
       "<PIL.Image.Image image mode=RGBA size=555x74>"
      ]
     },
     "execution_count": 28,
     "metadata": {},
     "output_type": "execute_result"
    }
   ],
   "source": [
    "import visualkeras\n",
    "\n",
    "visualkeras.layered_view(model,  legend=True)"
   ]
  },
  {
   "cell_type": "code",
   "execution_count": null,
   "metadata": {},
   "outputs": [],
   "source": []
  },
  {
   "cell_type": "code",
   "execution_count": null,
   "metadata": {},
   "outputs": [],
   "source": []
  },
  {
   "cell_type": "code",
   "execution_count": null,
   "metadata": {},
   "outputs": [],
   "source": []
  },
  {
   "cell_type": "code",
   "execution_count": null,
   "metadata": {},
   "outputs": [],
   "source": []
  },
  {
   "cell_type": "code",
   "execution_count": null,
   "metadata": {},
   "outputs": [],
   "source": []
  }
 ],
 "metadata": {
  "kernelspec": {
   "display_name": "Python 3 (ipykernel)",
   "language": "python",
   "name": "python3"
  },
  "language_info": {
   "codemirror_mode": {
    "name": "ipython",
    "version": 3
   },
   "file_extension": ".py",
   "mimetype": "text/x-python",
   "name": "python",
   "nbconvert_exporter": "python",
   "pygments_lexer": "ipython3",
   "version": "3.10.12"
  }
 },
 "nbformat": 4,
 "nbformat_minor": 4
}
