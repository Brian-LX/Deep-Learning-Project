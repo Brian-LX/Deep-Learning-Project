{
 "cells": [
  {
   "cell_type": "code",
   "execution_count": 1,
   "metadata": {},
   "outputs": [],
   "source": [
    "from keras.preprocessing.image import ImageDataGenerator\n",
    "import matplotlib.pyplot as plt\n",
    "from keras.models import Model\n",
    "from keras.layers import Input, Add, Concatenate, MaxPooling2D, AveragePooling2D, concatenate, Flatten, Dense, Conv2D\n",
    "from tensorflow.keras.models import Sequential\n",
    "from tensorflow.keras.optimizers import Adam\n",
    "from tensorflow import keras\n",
    "import keras.backend as K\n",
    "import tensorflow as tf\n",
    "import pandas as pd\n",
    "import numpy as np"
   ]
  },
  {
   "cell_type": "code",
   "execution_count": 11,
   "metadata": {},
   "outputs": [],
   "source": [
    "train_dir = r'C:\\\\Users\\\\HP\\\\Desktop\\\\project\\\\Code\\\\Training all models\\\\RiceLeafsDisease\\\\train'\n",
    "test_dir = r'C:\\\\Users\\\\HP\\\\Desktop\\\\project\\\\Code\\\\Training all models\\\\RiceLeafsDisease\\\\validation'\n",
    "\n",
    "val_loss = list()\n",
    "val_accuracy = list()\n",
    "test_loss= list()\n",
    "test_accuracy = list()"
   ]
  },
  {
   "cell_type": "code",
   "execution_count": 3,
   "metadata": {},
   "outputs": [],
   "source": [
    "BATCH_SIZE = 32\n",
    "seeds = 41\n",
    "im_shape = (250,250)"
   ]
  },
  {
   "cell_type": "code",
   "execution_count": 12,
   "metadata": {},
   "outputs": [
    {
     "name": "stdout",
     "output_type": "stream",
     "text": [
      "Found 1680 images belonging to 6 classes.\n",
      "Found 420 images belonging to 6 classes.\n",
      "Found 528 images belonging to 6 classes.\n",
      "Classes: ['bacterial_leaf_blight', 'brown_spot', 'healthy', 'leaf_blast', 'leaf_scald', 'narrow_brown_spot']\n"
     ]
    }
   ],
   "source": [
    "# Load and preprocess the training data\n",
    "train_generator = ImageDataGenerator(rescale=1./255, rotation_range=40,shear_range=0.2, zoom_range=0.2,width_shift_range=0.2,horizontal_flip=True,validation_split=0.2)\n",
    "val_data_generator = ImageDataGenerator(rescale=1./255, rotation_range=40,shear_range=0.2, zoom_range=0.2,width_shift_range=0.2,horizontal_flip=True,validation_split=0.2)\n",
    "test_generator = ImageDataGenerator(rescale=1./255, rotation_range=40,shear_range=0.2, zoom_range=0.2,width_shift_range=0.2,horizontal_flip=True)\n",
    "\n",
    "# Generator of Train\n",
    "train_generator = train_generator.flow_from_directory(train_dir, target_size=im_shape, shuffle=True, seed=seeds,\n",
    "                                                     class_mode='categorical',color_mode='rgb', batch_size=BATCH_SIZE, subset=\"training\")\n",
    "# Generator of validation\n",
    "validation_generator = val_data_generator.flow_from_directory(train_dir, target_size=im_shape, shuffle=False, seed=seeds,\n",
    "                                                     class_mode='categorical',color_mode='rgb', batch_size=BATCH_SIZE, subset=\"validation\")\n",
    "\n",
    "# Generator of dataset test\n",
    "test_generator = test_generator.flow_from_directory(test_dir, target_size=im_shape, shuffle=False, seed=seeds,\n",
    "                                                     class_mode='categorical',color_mode='rgb', batch_size=BATCH_SIZE)\n",
    "\n",
    "nb_train_samples = train_generator.samples\n",
    "nb_validation_samples = validation_generator.samples\n",
    "nb_test_samples = test_generator.samples\n",
    "classes = list(train_generator.class_indices.keys())\n",
    "print('Classes: '+str(classes))\n",
    "num_classes  = len(classes)\n"
   ]
  },
  {
   "cell_type": "markdown",
   "metadata": {},
   "source": [
    "## VGG16"
   ]
  },
  {
   "cell_type": "code",
   "execution_count": 2,
   "metadata": {},
   "outputs": [],
   "source": [
    "from tensorflow.keras.applications import VGG16"
   ]
  },
  {
   "cell_type": "code",
   "execution_count": 3,
   "metadata": {},
   "outputs": [],
   "source": [
    "vgg_base = VGG16(  \n",
    "    include_top=False,  \n",
    "    weights='imagenet',  \n",
    "    input_shape=(250, 250, 3),  \n",
    ")  \n",
    "   \n",
    "vgg_base.trainable = False  \n",
    "  \n",
    "set_trainable = False  \n",
    "\n",
    "for layer in vgg_base.layers:  \n",
    "    if layer.name == 'block5_conv1':  \n",
    "        set_trainable = True  \n",
    "    if set_trainable:  \n",
    "        layer.trainable = True  \n",
    "  \n",
    "vgg_model = Sequential()  \n",
    "  \n",
    "vgg_model.add(vgg_base)  \n",
    "  \n",
    "\n",
    "vgg_model.add(Flatten())  \n",
    "\n",
    "vgg_model.add(Dense(200, activation='relu'))  \n",
    "\n",
    "vgg_model.add(Dense(6, activation='softmax'))  \n"
   ]
  },
  {
   "cell_type": "code",
   "execution_count": 4,
   "metadata": {},
   "outputs": [
    {
     "name": "stdout",
     "output_type": "stream",
     "text": [
      "Model: \"sequential\"\n",
      "_________________________________________________________________\n",
      " Layer (type)                Output Shape              Param #   \n",
      "=================================================================\n",
      " vgg16 (Functional)          (None, 7, 7, 512)         14714688  \n",
      "                                                                 \n",
      " flatten (Flatten)           (None, 25088)             0         \n",
      "                                                                 \n",
      " dense (Dense)               (None, 200)               5017800   \n",
      "                                                                 \n",
      " dense_1 (Dense)             (None, 6)                 1206      \n",
      "                                                                 \n",
      "=================================================================\n",
      "Total params: 19,733,694\n",
      "Trainable params: 5,019,006\n",
      "Non-trainable params: 14,714,688\n",
      "_________________________________________________________________\n"
     ]
    }
   ],
   "source": [
    "vgg_model.summary()"
   ]
  },
  {
   "cell_type": "code",
   "execution_count": 16,
   "metadata": {},
   "outputs": [],
   "source": [
    "#compiling \n",
    "vgg_model.compile(optimizer='adam', loss='categorical_crossentropy', metrics=['accuracy'])"
   ]
  },
  {
   "cell_type": "code",
   "execution_count": 17,
   "metadata": {},
   "outputs": [],
   "source": [
    "import time\n",
    "# Record the start time of training\n",
    "start_time = time.time()"
   ]
  },
  {
   "cell_type": "code",
   "execution_count": 11,
   "metadata": {},
   "outputs": [
    {
     "name": "stdout",
     "output_type": "stream",
     "text": [
      "Epoch 1/10\n"
     ]
    },
    {
     "name": "stderr",
     "output_type": "stream",
     "text": [
      "2024-03-31 14:13:48.449306: I tensorflow/compiler/xla/stream_executor/cuda/cuda_dnn.cc:432] Loaded cuDNN version 8600\n",
      "2024-03-31 14:13:49.891220: I tensorflow/compiler/xla/stream_executor/cuda/cuda_blas.cc:606] TensorFloat-32 will be used for the matrix multiplication. This will only be logged once.\n",
      "2024-03-31 14:13:49.895980: I tensorflow/compiler/xla/service/service.cc:168] XLA service 0x1d223d20 initialized for platform CUDA (this does not guarantee that XLA will be used). Devices:\n",
      "2024-03-31 14:13:49.896046: I tensorflow/compiler/xla/service/service.cc:176]   StreamExecutor device (0): NVIDIA GeForce RTX 3080, Compute Capability 8.6\n",
      "2024-03-31 14:13:49.907866: I tensorflow/compiler/mlir/tensorflow/utils/dump_mlir_util.cc:255] disabling MLIR crash reproducer, set env var `MLIR_CRASH_REPRODUCER_DIRECTORY` to enable.\n",
      "2024-03-31 14:13:50.060620: I ./tensorflow/compiler/jit/device_compiler.h:186] Compiled cluster using XLA!  This line is logged at most once for the lifetime of the process.\n"
     ]
    },
    {
     "name": "stdout",
     "output_type": "stream",
     "text": [
      "112/112 [==============================] - 50s 407ms/step - loss: 1.6047 - accuracy: 0.5151 - val_loss: 0.9874 - val_accuracy: 0.6571\n",
      "Epoch 2/10\n",
      "112/112 [==============================] - 47s 419ms/step - loss: 0.7973 - accuracy: 0.7019 - val_loss: 0.8732 - val_accuracy: 0.6731\n",
      "Epoch 3/10\n",
      "112/112 [==============================] - 49s 442ms/step - loss: 0.6968 - accuracy: 0.7355 - val_loss: 0.7404 - val_accuracy: 0.7147\n",
      "Epoch 4/10\n",
      "112/112 [==============================] - 48s 431ms/step - loss: 0.5612 - accuracy: 0.7858 - val_loss: 0.5910 - val_accuracy: 0.7788\n",
      "Epoch 5/10\n",
      "112/112 [==============================] - 49s 436ms/step - loss: 0.5233 - accuracy: 0.8048 - val_loss: 0.6594 - val_accuracy: 0.7372\n",
      "Epoch 6/10\n",
      "112/112 [==============================] - 51s 452ms/step - loss: 0.4790 - accuracy: 0.8249 - val_loss: 0.5798 - val_accuracy: 0.7821\n",
      "Epoch 7/10\n",
      "112/112 [==============================] - 48s 432ms/step - loss: 0.4853 - accuracy: 0.8121 - val_loss: 0.5828 - val_accuracy: 0.7756\n",
      "Epoch 8/10\n",
      "112/112 [==============================] - 46s 410ms/step - loss: 0.4251 - accuracy: 0.8356 - val_loss: 0.5332 - val_accuracy: 0.7917\n",
      "Epoch 9/10\n",
      "112/112 [==============================] - 51s 454ms/step - loss: 0.3804 - accuracy: 0.8479 - val_loss: 0.6817 - val_accuracy: 0.7596\n",
      "Epoch 10/10\n",
      "112/112 [==============================] - 47s 418ms/step - loss: 0.4240 - accuracy: 0.8440 - val_loss: 0.5398 - val_accuracy: 0.8141\n"
     ]
    }
   ],
   "source": [
    "# Train the model\n",
    "epochs = 10\n",
    "\n",
    "#Training\n",
    "history_2 = vgg_model.fit(train_generator, epochs=epochs, validation_data=validation_generator)"
   ]
  },
  {
   "cell_type": "code",
   "execution_count": 12,
   "metadata": {},
   "outputs": [],
   "source": [
    "# Record the training end time\n",
    "end_time = time.time()"
   ]
  },
  {
   "cell_type": "code",
   "execution_count": 13,
   "metadata": {},
   "outputs": [
    {
     "name": "stdout",
     "output_type": "stream",
     "text": [
      "Training time: 597.0996775627136 seconds\n"
     ]
    }
   ],
   "source": [
    "training_time = end_time - start_time\n",
    "print(f\"Training time: {training_time} seconds\")"
   ]
  },
  {
   "cell_type": "code",
   "execution_count": 14,
   "metadata": {},
   "outputs": [
    {
     "data": {
      "text/html": [
       "<div>\n",
       "<style scoped>\n",
       "    .dataframe tbody tr th:only-of-type {\n",
       "        vertical-align: middle;\n",
       "    }\n",
       "\n",
       "    .dataframe tbody tr th {\n",
       "        vertical-align: top;\n",
       "    }\n",
       "\n",
       "    .dataframe thead th {\n",
       "        text-align: right;\n",
       "    }\n",
       "</style>\n",
       "<table border=\"1\" class=\"dataframe\">\n",
       "  <thead>\n",
       "    <tr style=\"text-align: right;\">\n",
       "      <th></th>\n",
       "      <th>loss</th>\n",
       "      <th>accuracy</th>\n",
       "      <th>val_loss</th>\n",
       "      <th>val_accuracy</th>\n",
       "    </tr>\n",
       "  </thead>\n",
       "  <tbody>\n",
       "    <tr>\n",
       "      <th>0</th>\n",
       "      <td>1.604684</td>\n",
       "      <td>0.515101</td>\n",
       "      <td>0.987384</td>\n",
       "      <td>0.657051</td>\n",
       "    </tr>\n",
       "    <tr>\n",
       "      <th>1</th>\n",
       "      <td>0.797328</td>\n",
       "      <td>0.701902</td>\n",
       "      <td>0.873213</td>\n",
       "      <td>0.673077</td>\n",
       "    </tr>\n",
       "    <tr>\n",
       "      <th>2</th>\n",
       "      <td>0.696836</td>\n",
       "      <td>0.735459</td>\n",
       "      <td>0.740438</td>\n",
       "      <td>0.714744</td>\n",
       "    </tr>\n",
       "    <tr>\n",
       "      <th>3</th>\n",
       "      <td>0.561246</td>\n",
       "      <td>0.785794</td>\n",
       "      <td>0.590965</td>\n",
       "      <td>0.778846</td>\n",
       "    </tr>\n",
       "    <tr>\n",
       "      <th>4</th>\n",
       "      <td>0.523329</td>\n",
       "      <td>0.804810</td>\n",
       "      <td>0.659369</td>\n",
       "      <td>0.737179</td>\n",
       "    </tr>\n",
       "    <tr>\n",
       "      <th>5</th>\n",
       "      <td>0.479039</td>\n",
       "      <td>0.824944</td>\n",
       "      <td>0.579830</td>\n",
       "      <td>0.782051</td>\n",
       "    </tr>\n",
       "    <tr>\n",
       "      <th>6</th>\n",
       "      <td>0.485348</td>\n",
       "      <td>0.812081</td>\n",
       "      <td>0.582803</td>\n",
       "      <td>0.775641</td>\n",
       "    </tr>\n",
       "    <tr>\n",
       "      <th>7</th>\n",
       "      <td>0.425136</td>\n",
       "      <td>0.835570</td>\n",
       "      <td>0.533188</td>\n",
       "      <td>0.791667</td>\n",
       "    </tr>\n",
       "    <tr>\n",
       "      <th>8</th>\n",
       "      <td>0.380437</td>\n",
       "      <td>0.847875</td>\n",
       "      <td>0.681669</td>\n",
       "      <td>0.759615</td>\n",
       "    </tr>\n",
       "    <tr>\n",
       "      <th>9</th>\n",
       "      <td>0.424024</td>\n",
       "      <td>0.843960</td>\n",
       "      <td>0.539757</td>\n",
       "      <td>0.814103</td>\n",
       "    </tr>\n",
       "  </tbody>\n",
       "</table>\n",
       "</div>"
      ],
      "text/plain": [
       "       loss  accuracy  val_loss  val_accuracy\n",
       "0  1.604684  0.515101  0.987384      0.657051\n",
       "1  0.797328  0.701902  0.873213      0.673077\n",
       "2  0.696836  0.735459  0.740438      0.714744\n",
       "3  0.561246  0.785794  0.590965      0.778846\n",
       "4  0.523329  0.804810  0.659369      0.737179\n",
       "5  0.479039  0.824944  0.579830      0.782051\n",
       "6  0.485348  0.812081  0.582803      0.775641\n",
       "7  0.425136  0.835570  0.533188      0.791667\n",
       "8  0.380437  0.847875  0.681669      0.759615\n",
       "9  0.424024  0.843960  0.539757      0.814103"
      ]
     },
     "execution_count": 14,
     "metadata": {},
     "output_type": "execute_result"
    }
   ],
   "source": [
    "pd.DataFrame(history_2.history)"
   ]
  },
  {
   "cell_type": "code",
   "execution_count": 15,
   "metadata": {},
   "outputs": [],
   "source": [
    "import joblib\n",
    "\n",
    "joblib.dump(history_2.history,'history_VGG.pkl')\n",
    "history_CNN2 = joblib.load('history_VGG.pkl')"
   ]
  },
  {
   "cell_type": "code",
   "execution_count": 16,
   "metadata": {},
   "outputs": [
    {
     "data": {
      "image/png": "[encoded data removed]",
      "text/plain": [
       "<Figure size 1200x500 with 2 Axes>"
      ]
     },
     "metadata": {},
     "output_type": "display_data"
    }
   ],
   "source": [
    "#Training accuracy and validation accuracy graph\n",
    "plt.figure(figsize=(12, 5))\n",
    "\n",
    "plt.subplot(1, 2, 1)\n",
    "plt.plot(history_CNN2['accuracy'])\n",
    "plt.plot(history_CNN2['val_accuracy'])\n",
    "plt.title('Model Accuracy')\n",
    "plt.xlabel('Epoch')\n",
    "plt.ylabel('Accuracy')\n",
    "plt.ylim(0.1, 1)\n",
    "plt.legend(['Training Accuracy', 'Validation Accuracy'], loc ='lower right')\n",
    "\n",
    "plt.subplot(1, 2, 2)\n",
    "plt.plot(history_CNN2['loss'])\n",
    "plt.plot(history_CNN2['val_loss'])\n",
    "plt.title('Model Loss')\n",
    "plt.xlabel('Epoch')\n",
    "plt.ylabel('Loss')\n",
    "plt.legend(['Training Loss', 'Validation Loss'], loc ='upper right')\n",
    "\n",
    "plt.show()"
   ]
  },
  {
   "cell_type": "code",
   "execution_count": 17,
   "metadata": {},
   "outputs": [
    {
     "name": "stderr",
     "output_type": "stream",
     "text": [
      "/environment/miniconda3/lib/python3.10/site-packages/keras/src/engine/training.py:3000: UserWarning: You are saving your model as an HDF5 file via `model.save()`. This file format is considered legacy. We recommend using instead the native Keras format, e.g. `model.save('my_model.keras')`.\n",
      "  saving_api.save_model(\n"
     ]
    }
   ],
   "source": [
    "vgg_model.save('VGG16_model.h5')"
   ]
  },
  {
   "cell_type": "code",
   "execution_count": 28,
   "metadata": {},
   "outputs": [
    {
     "data": {
      "image/png": "[encoded data removed]",
      "text/plain": [
       "<PIL.Image.Image image mode=RGBA size=555x74>"
      ]
     },
     "execution_count": 28,
     "metadata": {},
     "output_type": "execute_result"
    }
   ],
   "source": [
    "import visualkeras\n",
    "\n",
    "visualkeras.layered_view(model_2,  legend=True)"
   ]
  },
  {
   "cell_type": "code",
   "execution_count": null,
   "metadata": {},
   "outputs": [],
   "source": []
  },
  {
   "cell_type": "code",
   "execution_count": null,
   "metadata": {},
   "outputs": [],
   "source": []
  },
  {
   "cell_type": "code",
   "execution_count": null,
   "metadata": {},
   "outputs": [],
   "source": []
  },
  {
   "cell_type": "code",
   "execution_count": null,
   "metadata": {},
   "outputs": [],
   "source": []
  },
  {
   "cell_type": "code",
   "execution_count": null,
   "metadata": {},
   "outputs": [],
   "source": []
  }
 ],
 "metadata": {
  "kernelspec": {
   "display_name": "Python 3 (ipykernel)",
   "language": "python",
   "name": "python3"
  },
  "language_info": {
   "codemirror_mode": {
    "name": "ipython",
    "version": 3
   },
   "file_extension": ".py",
   "mimetype": "text/x-python",
   "name": "python",
   "nbconvert_exporter": "python",
   "pygments_lexer": "ipython3",
   "version": "3.9.18"
  }
 },
 "nbformat": 4,
 "nbformat_minor": 4
}
