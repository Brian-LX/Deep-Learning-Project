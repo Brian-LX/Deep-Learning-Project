{
 "cells": [
  {
   "cell_type": "code",
   "execution_count": 1,
   "metadata": {},
   "outputs": [
    {
     "name": "stderr",
     "output_type": "stream",
     "text": [
      "2024-04-11 19:13:02.792159: I tensorflow/core/platform/cpu_feature_guard.cc:182] This TensorFlow binary is optimized to use available CPU instructions in performance-critical operations.\n",
      "To enable the following instructions: AVX2 AVX512F FMA, in other operations, rebuild TensorFlow with the appropriate compiler flags.\n",
      "2024-04-11 19:13:04.297874: W tensorflow/compiler/tf2tensorrt/utils/py_utils.cc:38] TF-TRT Warning: Could not find TensorRT\n"
     ]
    },
    {
     "name": "stdout",
     "output_type": "stream",
     "text": [
      "we are currently using tensorflow version 2.13.0\n"
     ]
    }
   ],
   "source": [
    "#basics\n",
    "import pandas as pd\n",
    "import numpy as np\n",
    "import tensorflow as tf\n",
    "import keras\n",
    "\n",
    "# visualisation\n",
    "import matplotlib.pyplot as plt\n",
    "import seaborn as sns\n",
    "\n",
    "#utility & processing\n",
    "from tensorflow.keras import utils\n",
    "from tensorflow.keras.utils import to_categorical\n",
    "from sklearn.model_selection import train_test_split\n",
    "\n",
    "#cnn architecture\n",
    "from tensorflow.keras.layers import Dense, Conv2D, MaxPooling2D, Flatten\n",
    "from tensorflow.keras.models import Sequential\n",
    "\n",
    "#callbacks\n",
    "from tensorflow.keras.callbacks import ModelCheckpoint, EarlyStopping\n",
    "\n",
    "#data augmentation\n",
    "from tensorflow.keras.preprocessing.image import ImageDataGenerator\n",
    "\n",
    "#keras tuner\n",
    "# import keras_tuner\n",
    "# from keras_tuner import RandomSearch\n",
    "# from keras_tuner.engine.hyperparameters import HyperParameters\n",
    "\n",
    "#transfer learning\n",
    "from keras.applications.vgg16 import VGG16\n",
    "\n",
    "#warnings\n",
    "import warnings\n",
    "warnings.filterwarnings('ignore')\n",
    "\n",
    "\n",
    "print('we are currently using tensorflow version', tf.__version__)"
   ]
  },
  {
   "cell_type": "code",
   "execution_count": 2,
   "metadata": {},
   "outputs": [],
   "source": [
    "train_dir = r'data/RiceLeafsDisease/train/'\n",
    "test_dir = r'data/RiceLeafsDisease/validation/'\n",
    "\n",
    "val_loss = list()\n",
    "val_accuracy = list()\n",
    "test_loss= list()\n",
    "test_accuracy = list()"
   ]
  },
  {
   "cell_type": "code",
   "execution_count": 3,
   "metadata": {},
   "outputs": [],
   "source": [
    "BATCH_SIZE = 32\n",
    "seeds = 41\n",
    "im_shape = (250,250)"
   ]
  },
  {
   "cell_type": "code",
   "execution_count": 4,
   "metadata": {},
   "outputs": [
    {
     "name": "stdout",
     "output_type": "stream",
     "text": [
      "Found 1680 images belonging to 6 classes.\n",
      "Found 420 images belonging to 6 classes.\n",
      "Found 528 images belonging to 6 classes.\n",
      "Classes: ['bacterial_leaf_blight', 'brown_spot', 'healthy', 'leaf_blast', 'leaf_scald', 'narrow_brown_spot']\n"
     ]
    }
   ],
   "source": [
    "# Load and preprocess the training data\n",
    "train_generator = ImageDataGenerator(rescale=1./255, rotation_range=40,shear_range=0.2, zoom_range=0.2,width_shift_range=0.2,horizontal_flip=True,validation_split=0.2)\n",
    "val_data_generator = ImageDataGenerator(rescale=1./255, rotation_range=40,shear_range=0.2, zoom_range=0.2,width_shift_range=0.2,horizontal_flip=True,validation_split=0.2)\n",
    "test_generator = ImageDataGenerator(rescale=1./255, rotation_range=40,shear_range=0.2, zoom_range=0.2,width_shift_range=0.2,horizontal_flip=True)\n",
    "\n",
    "# Generator of Train\n",
    "train_generator = train_generator.flow_from_directory(train_dir, target_size=im_shape, shuffle=True, seed=seeds,\n",
    "                                                     class_mode='categorical',color_mode='rgb', batch_size=BATCH_SIZE, subset=\"training\")\n",
    "# Generator of validation\n",
    "validation_generator = val_data_generator.flow_from_directory(train_dir, target_size=im_shape, shuffle=False, seed=seeds,\n",
    "                                                     class_mode='categorical',color_mode='rgb', batch_size=BATCH_SIZE, subset=\"validation\")\n",
    "\n",
    "# Generator of dataset test\n",
    "test_generator = test_generator.flow_from_directory(test_dir, target_size=im_shape, shuffle=False, seed=seeds,\n",
    "                                                     class_mode='categorical',color_mode='rgb', batch_size=BATCH_SIZE)\n",
    "\n",
    "nb_train_samples = train_generator.samples\n",
    "nb_validation_samples = validation_generator.samples\n",
    "nb_test_samples = test_generator.samples\n",
    "classes = list(train_generator.class_indices.keys())\n",
    "print('Classes: '+str(classes))\n",
    "num_classes  = len(classes)\n"
   ]
  },
  {
   "cell_type": "markdown",
   "metadata": {},
   "source": [
    "## VGG16"
   ]
  },
  {
   "cell_type": "code",
   "execution_count": 5,
   "metadata": {},
   "outputs": [],
   "source": [
    "from tensorflow.keras.applications import VGG16"
   ]
  },
  {
   "cell_type": "code",
   "execution_count": 8,
   "metadata": {},
   "outputs": [],
   "source": [
    "vgg_base = VGG16(  \n",
    "    include_top=False,  \n",
    "    weights='imagenet',  \n",
    "    input_shape=(250, 250, 3),  \n",
    ")  \n",
    "    \n",
    "vgg_base.trainable = False  \n",
    "\n",
    "set_trainable = False  \n",
    "\n",
    "for layer in vgg_base.layers:  \n",
    "    if layer.name == 'block5_conv1':  \n",
    "        set_trainable = True  \n",
    "    if set_trainable:  \n",
    "        layer.trainable = True  \n",
    "\n",
    "\n",
    "vgg_model = Sequential()  \n",
    "  \n",
    "# 添加vgg_base模型  \n",
    "vgg_model.add(vgg_base)  \n",
    "  \n",
    "# 添加Flatten层以将卷积层的输出展平  \n",
    "vgg_model.add(Flatten())  \n",
    "  \n",
    "# 添加第一个全连接层，具有200个神经元和ReLU激活函数  \n",
    "vgg_model.add(Dense(200, activation='relu'))  \n",
    "  \n",
    "# 添加输出层，具有6个神经元和softmax激活函数，假设有6个类别  \n",
    "vgg_model.add(Dense(6, activation='softmax')) \n"
   ]
  },
  {
   "cell_type": "code",
   "execution_count": 9,
   "metadata": {},
   "outputs": [
    {
     "name": "stdout",
     "output_type": "stream",
     "text": [
      "Model: \"sequential_1\"\n",
      "_________________________________________________________________\n",
      " Layer (type)                Output Shape              Param #   \n",
      "=================================================================\n",
      " vgg16 (Functional)          (None, 7, 7, 512)         14714688  \n",
      "                                                                 \n",
      " flatten_1 (Flatten)         (None, 25088)             0         \n",
      "                                                                 \n",
      " dense_2 (Dense)             (None, 200)               5017800   \n",
      "                                                                 \n",
      " dense_3 (Dense)             (None, 6)                 1206      \n",
      "                                                                 \n",
      "=================================================================\n",
      "Total params: 19733694 (75.28 MB)\n",
      "Trainable params: 5019006 (19.15 MB)\n",
      "Non-trainable params: 14714688 (56.13 MB)\n",
      "_________________________________________________________________\n"
     ]
    }
   ],
   "source": [
    "vgg_model.summary()"
   ]
  },
  {
   "cell_type": "code",
   "execution_count": 10,
   "metadata": {},
   "outputs": [],
   "source": [
    "#compiling \n",
    "vgg_model.compile(optimizer='adam', loss='categorical_crossentropy', metrics=['accuracy'])"
   ]
  },
  {
   "cell_type": "code",
   "execution_count": 11,
   "metadata": {},
   "outputs": [],
   "source": [
    "import time\n",
    "# Record the start time of training\n",
    "start_time = time.time()"
   ]
  },
  {
   "cell_type": "code",
   "execution_count": 12,
   "metadata": {},
   "outputs": [
    {
     "name": "stdout",
     "output_type": "stream",
     "text": [
      "Epoch 1/20\n"
     ]
    },
    {
     "name": "stderr",
     "output_type": "stream",
     "text": [
      "2024-04-11 19:15:13.135895: I tensorflow/compiler/xla/stream_executor/cuda/cuda_dnn.cc:432] Loaded cuDNN version 8600\n",
      "2024-04-11 19:15:18.398759: I tensorflow/compiler/xla/stream_executor/cuda/cuda_blas.cc:606] TensorFloat-32 will be used for the matrix multiplication. This will only be logged once.\n",
      "2024-04-11 19:15:18.700557: I tensorflow/compiler/xla/service/service.cc:168] XLA service 0x1ceb0840 initialized for platform CUDA (this does not guarantee that XLA will be used). Devices:\n",
      "2024-04-11 19:15:18.700772: I tensorflow/compiler/xla/service/service.cc:176]   StreamExecutor device (0): NVIDIA GeForce RTX 3080, Compute Capability 8.6\n",
      "2024-04-11 19:15:18.863605: I tensorflow/compiler/mlir/tensorflow/utils/dump_mlir_util.cc:255] disabling MLIR crash reproducer, set env var `MLIR_CRASH_REPRODUCER_DIRECTORY` to enable.\n",
      "2024-04-11 19:15:19.596008: I ./tensorflow/compiler/jit/device_compiler.h:186] Compiled cluster using XLA!  This line is logged at most once for the lifetime of the process.\n"
     ]
    },
    {
     "name": "stdout",
     "output_type": "stream",
     "text": [
      "52/52 [==============================] - ETA: 0s - loss: 1.6803 - accuracy: 0.5030\n",
      "Epoch 1: val_loss improved from inf to 1.15181, saving model to VGG16_model_20epochs.h5\n",
      "52/52 [==============================] - 51s 776ms/step - loss: 1.6803 - accuracy: 0.5030 - val_loss: 1.1518 - val_accuracy: 0.5841\n",
      "Epoch 2/20\n",
      "52/52 [==============================] - ETA: 0s - loss: 0.8815 - accuracy: 0.6778\n",
      "Epoch 2: val_loss improved from 1.15181 to 0.96800, saving model to VGG16_model_20epochs.h5\n",
      "52/52 [==============================] - 42s 819ms/step - loss: 0.8815 - accuracy: 0.6778 - val_loss: 0.9680 - val_accuracy: 0.6226\n",
      "Epoch 3/20\n",
      "52/52 [==============================] - ETA: 0s - loss: 0.7433 - accuracy: 0.7166\n",
      "Epoch 3: val_loss improved from 0.96800 to 0.80834, saving model to VGG16_model_20epochs.h5\n",
      "52/52 [==============================] - 43s 825ms/step - loss: 0.7433 - accuracy: 0.7166 - val_loss: 0.8083 - val_accuracy: 0.7043\n",
      "Epoch 4/20\n",
      "52/52 [==============================] - ETA: 0s - loss: 0.6497 - accuracy: 0.7536\n",
      "Epoch 4: val_loss improved from 0.80834 to 0.70695, saving model to VGG16_model_20epochs.h5\n",
      "52/52 [==============================] - 44s 850ms/step - loss: 0.6497 - accuracy: 0.7536 - val_loss: 0.7069 - val_accuracy: 0.7380\n",
      "Epoch 5/20\n",
      "52/52 [==============================] - ETA: 0s - loss: 0.5659 - accuracy: 0.7870\n",
      "Epoch 5: val_loss improved from 0.70695 to 0.70401, saving model to VGG16_model_20epochs.h5\n",
      "52/52 [==============================] - 42s 805ms/step - loss: 0.5659 - accuracy: 0.7870 - val_loss: 0.7040 - val_accuracy: 0.7260\n",
      "Epoch 6/20\n",
      "52/52 [==============================] - ETA: 0s - loss: 0.5323 - accuracy: 0.8016\n",
      "Epoch 6: val_loss improved from 0.70401 to 0.68464, saving model to VGG16_model_20epochs.h5\n",
      "52/52 [==============================] - 43s 824ms/step - loss: 0.5323 - accuracy: 0.8016 - val_loss: 0.6846 - val_accuracy: 0.7332\n",
      "Epoch 7/20\n",
      "52/52 [==============================] - ETA: 0s - loss: 0.5132 - accuracy: 0.8095\n",
      "Epoch 7: val_loss did not improve from 0.68464\n",
      "52/52 [==============================] - 41s 787ms/step - loss: 0.5132 - accuracy: 0.8095 - val_loss: 0.7534 - val_accuracy: 0.7284\n",
      "Epoch 8/20\n",
      "52/52 [==============================] - ETA: 0s - loss: 0.4535 - accuracy: 0.8277\n",
      "Epoch 8: val_loss improved from 0.68464 to 0.58781, saving model to VGG16_model_20epochs.h5\n",
      "52/52 [==============================] - 43s 827ms/step - loss: 0.4535 - accuracy: 0.8277 - val_loss: 0.5878 - val_accuracy: 0.7620\n",
      "Epoch 9/20\n",
      "52/52 [==============================] - ETA: 0s - loss: 0.4365 - accuracy: 0.8295\n",
      "Epoch 9: val_loss did not improve from 0.58781\n",
      "52/52 [==============================] - 44s 841ms/step - loss: 0.4365 - accuracy: 0.8295 - val_loss: 0.6234 - val_accuracy: 0.7500\n",
      "Epoch 10/20\n",
      "52/52 [==============================] - ETA: 0s - loss: 0.4160 - accuracy: 0.8532\n",
      "Epoch 10: val_loss improved from 0.58781 to 0.57436, saving model to VGG16_model_20epochs.h5\n",
      "52/52 [==============================] - 41s 787ms/step - loss: 0.4160 - accuracy: 0.8532 - val_loss: 0.5744 - val_accuracy: 0.7837\n",
      "Epoch 11/20\n",
      "52/52 [==============================] - ETA: 0s - loss: 0.4540 - accuracy: 0.8252\n",
      "Epoch 11: val_loss improved from 0.57436 to 0.54123, saving model to VGG16_model_20epochs.h5\n",
      "52/52 [==============================] - 44s 854ms/step - loss: 0.4540 - accuracy: 0.8252 - val_loss: 0.5412 - val_accuracy: 0.7764\n",
      "Epoch 12/20\n",
      "52/52 [==============================] - ETA: 0s - loss: 0.3910 - accuracy: 0.8501\n",
      "Epoch 12: val_loss improved from 0.54123 to 0.52088, saving model to VGG16_model_20epochs.h5\n",
      "52/52 [==============================] - 41s 783ms/step - loss: 0.3910 - accuracy: 0.8501 - val_loss: 0.5209 - val_accuracy: 0.7837\n",
      "Epoch 13/20\n",
      "52/52 [==============================] - ETA: 0s - loss: 0.3947 - accuracy: 0.8471\n",
      "Epoch 13: val_loss did not improve from 0.52088\n",
      "52/52 [==============================] - 41s 794ms/step - loss: 0.3947 - accuracy: 0.8471 - val_loss: 0.6602 - val_accuracy: 0.7332\n",
      "Epoch 14/20\n",
      "52/52 [==============================] - ETA: 0s - loss: 0.3575 - accuracy: 0.8720\n",
      "Epoch 14: val_loss improved from 0.52088 to 0.51588, saving model to VGG16_model_20epochs.h5\n",
      "52/52 [==============================] - 41s 790ms/step - loss: 0.3575 - accuracy: 0.8720 - val_loss: 0.5159 - val_accuracy: 0.8005\n",
      "Epoch 15/20\n",
      "52/52 [==============================] - ETA: 0s - loss: 0.3403 - accuracy: 0.8768\n",
      "Epoch 15: val_loss improved from 0.51588 to 0.50399, saving model to VGG16_model_20epochs.h5\n",
      "52/52 [==============================] - 46s 880ms/step - loss: 0.3403 - accuracy: 0.8768 - val_loss: 0.5040 - val_accuracy: 0.8053\n",
      "Epoch 16/20\n",
      "52/52 [==============================] - ETA: 0s - loss: 0.3526 - accuracy: 0.8610\n",
      "Epoch 16: val_loss did not improve from 0.50399\n",
      "52/52 [==============================] - 43s 826ms/step - loss: 0.3526 - accuracy: 0.8610 - val_loss: 0.5989 - val_accuracy: 0.8053\n",
      "Epoch 17/20\n",
      "52/52 [==============================] - ETA: 0s - loss: 0.3534 - accuracy: 0.8695\n",
      "Epoch 17: val_loss improved from 0.50399 to 0.49073, saving model to VGG16_model_20epochs.h5\n",
      "52/52 [==============================] - 41s 793ms/step - loss: 0.3534 - accuracy: 0.8695 - val_loss: 0.4907 - val_accuracy: 0.8029\n",
      "Epoch 18/20\n",
      "52/52 [==============================] - ETA: 0s - loss: 0.3093 - accuracy: 0.8792\n",
      "Epoch 18: val_loss did not improve from 0.49073\n",
      "52/52 [==============================] - 44s 842ms/step - loss: 0.3093 - accuracy: 0.8792 - val_loss: 0.4971 - val_accuracy: 0.8053\n",
      "Epoch 19/20\n",
      "52/52 [==============================] - ETA: 0s - loss: 0.3086 - accuracy: 0.8799\n",
      "Epoch 19: val_loss improved from 0.49073 to 0.45261, saving model to VGG16_model_20epochs.h5\n",
      "52/52 [==============================] - 41s 797ms/step - loss: 0.3086 - accuracy: 0.8799 - val_loss: 0.4526 - val_accuracy: 0.8317\n",
      "Epoch 20/20\n",
      "52/52 [==============================] - ETA: 0s - loss: 0.3159 - accuracy: 0.8865\n",
      "Epoch 20: val_loss did not improve from 0.45261\n",
      "52/52 [==============================] - 41s 781ms/step - loss: 0.3159 - accuracy: 0.8865 - val_loss: 0.5560 - val_accuracy: 0.7764\n"
     ]
    }
   ],
   "source": [
    "# Train the model\n",
    "epochs = 20\n",
    "\n",
    "early_stopping = EarlyStopping(  \n",
    "    monitor='val_loss',  # 监控验证集损失  \n",
    "    min_delta=0.0001,  # 监控指标改善的最小变化量  \n",
    "    patience=5,  # 在多少个epoch内没有改善后停止训练  \n",
    "    verbose=1,  # 日志打印模式  \n",
    "    mode='auto',  # 监控指标是否应该被最小化或最大化，'auto'将根据指标名称决定  \n",
    "    restore_best_weights=True  # 是否在训练停止后恢复最佳权重  \n",
    ")  \n",
    "\n",
    "checkpoint = ModelCheckpoint(  \n",
    "    filepath='VGG16_model_20epochs.h5',  \n",
    "    monitor='val_loss',  \n",
    "    save_best_only=True,  \n",
    "    verbose=1  \n",
    ")  \n",
    "  \n",
    "# 将回调添加到列表中  \n",
    "callbacks_list = [early_stopping, checkpoint]  \n",
    "\n",
    "#Training\n",
    "history = vgg_model.fit(\n",
    "    train_generator,\n",
    "    steps_per_epoch=nb_train_samples // BATCH_SIZE,\n",
    "    epochs=epochs,\n",
    "    callbacks = callbacks_list,\n",
    "    validation_data=validation_generator,\n",
    "    verbose = 1,\n",
    "    validation_steps=nb_validation_samples // BATCH_SIZE) "
   ]
  },
  {
   "cell_type": "code",
   "execution_count": 13,
   "metadata": {},
   "outputs": [],
   "source": [
    "# Record the training end time\n",
    "end_time = time.time()"
   ]
  },
  {
   "cell_type": "code",
   "execution_count": 14,
   "metadata": {},
   "outputs": [
    {
     "name": "stdout",
     "output_type": "stream",
     "text": [
      "Training time: 1400.0556313991547 seconds\n"
     ]
    }
   ],
   "source": [
    "training_time = end_time - start_time\n",
    "print(f\"Training time: {training_time} seconds\")"
   ]
  },
  {
   "cell_type": "code",
   "execution_count": 15,
   "metadata": {},
   "outputs": [
    {
     "data": {
      "text/html": [
       "<div>\n",
       "<style scoped>\n",
       "    .dataframe tbody tr th:only-of-type {\n",
       "        vertical-align: middle;\n",
       "    }\n",
       "\n",
       "    .dataframe tbody tr th {\n",
       "        vertical-align: top;\n",
       "    }\n",
       "\n",
       "    .dataframe thead th {\n",
       "        text-align: right;\n",
       "    }\n",
       "</style>\n",
       "<table border=\"1\" class=\"dataframe\">\n",
       "  <thead>\n",
       "    <tr style=\"text-align: right;\">\n",
       "      <th></th>\n",
       "      <th>loss</th>\n",
       "      <th>accuracy</th>\n",
       "      <th>val_loss</th>\n",
       "      <th>val_accuracy</th>\n",
       "    </tr>\n",
       "  </thead>\n",
       "  <tbody>\n",
       "    <tr>\n",
       "      <th>0</th>\n",
       "      <td>1.680307</td>\n",
       "      <td>0.503034</td>\n",
       "      <td>1.151814</td>\n",
       "      <td>0.584135</td>\n",
       "    </tr>\n",
       "    <tr>\n",
       "      <th>1</th>\n",
       "      <td>0.881494</td>\n",
       "      <td>0.677791</td>\n",
       "      <td>0.967996</td>\n",
       "      <td>0.622596</td>\n",
       "    </tr>\n",
       "    <tr>\n",
       "      <th>2</th>\n",
       "      <td>0.743333</td>\n",
       "      <td>0.716626</td>\n",
       "      <td>0.808343</td>\n",
       "      <td>0.704327</td>\n",
       "    </tr>\n",
       "    <tr>\n",
       "      <th>3</th>\n",
       "      <td>0.649650</td>\n",
       "      <td>0.753641</td>\n",
       "      <td>0.706946</td>\n",
       "      <td>0.737981</td>\n",
       "    </tr>\n",
       "    <tr>\n",
       "      <th>4</th>\n",
       "      <td>0.565922</td>\n",
       "      <td>0.787015</td>\n",
       "      <td>0.704005</td>\n",
       "      <td>0.725962</td>\n",
       "    </tr>\n",
       "    <tr>\n",
       "      <th>5</th>\n",
       "      <td>0.532308</td>\n",
       "      <td>0.801578</td>\n",
       "      <td>0.684640</td>\n",
       "      <td>0.733173</td>\n",
       "    </tr>\n",
       "    <tr>\n",
       "      <th>6</th>\n",
       "      <td>0.513222</td>\n",
       "      <td>0.809466</td>\n",
       "      <td>0.753448</td>\n",
       "      <td>0.728365</td>\n",
       "    </tr>\n",
       "    <tr>\n",
       "      <th>7</th>\n",
       "      <td>0.453489</td>\n",
       "      <td>0.827670</td>\n",
       "      <td>0.587810</td>\n",
       "      <td>0.762019</td>\n",
       "    </tr>\n",
       "    <tr>\n",
       "      <th>8</th>\n",
       "      <td>0.436477</td>\n",
       "      <td>0.829490</td>\n",
       "      <td>0.623446</td>\n",
       "      <td>0.750000</td>\n",
       "    </tr>\n",
       "    <tr>\n",
       "      <th>9</th>\n",
       "      <td>0.416040</td>\n",
       "      <td>0.853155</td>\n",
       "      <td>0.574359</td>\n",
       "      <td>0.783654</td>\n",
       "    </tr>\n",
       "    <tr>\n",
       "      <th>10</th>\n",
       "      <td>0.453997</td>\n",
       "      <td>0.825243</td>\n",
       "      <td>0.541226</td>\n",
       "      <td>0.776442</td>\n",
       "    </tr>\n",
       "    <tr>\n",
       "      <th>11</th>\n",
       "      <td>0.391029</td>\n",
       "      <td>0.850121</td>\n",
       "      <td>0.520882</td>\n",
       "      <td>0.783654</td>\n",
       "    </tr>\n",
       "    <tr>\n",
       "      <th>12</th>\n",
       "      <td>0.394723</td>\n",
       "      <td>0.847087</td>\n",
       "      <td>0.660164</td>\n",
       "      <td>0.733173</td>\n",
       "    </tr>\n",
       "    <tr>\n",
       "      <th>13</th>\n",
       "      <td>0.357524</td>\n",
       "      <td>0.871966</td>\n",
       "      <td>0.515878</td>\n",
       "      <td>0.800481</td>\n",
       "    </tr>\n",
       "    <tr>\n",
       "      <th>14</th>\n",
       "      <td>0.340336</td>\n",
       "      <td>0.876820</td>\n",
       "      <td>0.503993</td>\n",
       "      <td>0.805288</td>\n",
       "    </tr>\n",
       "    <tr>\n",
       "      <th>15</th>\n",
       "      <td>0.352595</td>\n",
       "      <td>0.861044</td>\n",
       "      <td>0.598925</td>\n",
       "      <td>0.805288</td>\n",
       "    </tr>\n",
       "    <tr>\n",
       "      <th>16</th>\n",
       "      <td>0.353401</td>\n",
       "      <td>0.869539</td>\n",
       "      <td>0.490728</td>\n",
       "      <td>0.802885</td>\n",
       "    </tr>\n",
       "    <tr>\n",
       "      <th>17</th>\n",
       "      <td>0.309291</td>\n",
       "      <td>0.879248</td>\n",
       "      <td>0.497136</td>\n",
       "      <td>0.805288</td>\n",
       "    </tr>\n",
       "    <tr>\n",
       "      <th>18</th>\n",
       "      <td>0.308557</td>\n",
       "      <td>0.879854</td>\n",
       "      <td>0.452607</td>\n",
       "      <td>0.831731</td>\n",
       "    </tr>\n",
       "    <tr>\n",
       "      <th>19</th>\n",
       "      <td>0.315851</td>\n",
       "      <td>0.886529</td>\n",
       "      <td>0.556019</td>\n",
       "      <td>0.776442</td>\n",
       "    </tr>\n",
       "  </tbody>\n",
       "</table>\n",
       "</div>"
      ],
      "text/plain": [
       "        loss  accuracy  val_loss  val_accuracy\n",
       "0   1.680307  0.503034  1.151814      0.584135\n",
       "1   0.881494  0.677791  0.967996      0.622596\n",
       "2   0.743333  0.716626  0.808343      0.704327\n",
       "3   0.649650  0.753641  0.706946      0.737981\n",
       "4   0.565922  0.787015  0.704005      0.725962\n",
       "5   0.532308  0.801578  0.684640      0.733173\n",
       "6   0.513222  0.809466  0.753448      0.728365\n",
       "7   0.453489  0.827670  0.587810      0.762019\n",
       "8   0.436477  0.829490  0.623446      0.750000\n",
       "9   0.416040  0.853155  0.574359      0.783654\n",
       "10  0.453997  0.825243  0.541226      0.776442\n",
       "11  0.391029  0.850121  0.520882      0.783654\n",
       "12  0.394723  0.847087  0.660164      0.733173\n",
       "13  0.357524  0.871966  0.515878      0.800481\n",
       "14  0.340336  0.876820  0.503993      0.805288\n",
       "15  0.352595  0.861044  0.598925      0.805288\n",
       "16  0.353401  0.869539  0.490728      0.802885\n",
       "17  0.309291  0.879248  0.497136      0.805288\n",
       "18  0.308557  0.879854  0.452607      0.831731\n",
       "19  0.315851  0.886529  0.556019      0.776442"
      ]
     },
     "execution_count": 15,
     "metadata": {},
     "output_type": "execute_result"
    }
   ],
   "source": [
    "pd.DataFrame(history.history)"
   ]
  },
  {
   "cell_type": "code",
   "execution_count": 16,
   "metadata": {},
   "outputs": [],
   "source": [
    "import joblib\n",
    "\n",
    "joblib.dump(history.history,'history_VGG.pkl')\n",
    "history_CNN2 = joblib.load('history_VGG.pkl')"
   ]
  },
  {
   "cell_type": "code",
   "execution_count": 17,
   "metadata": {},
   "outputs": [
    {
     "data": {
      "image/png": "[encoded data removed]",
      "text/plain": [
       "<Figure size 1200x500 with 2 Axes>"
      ]
     },
     "metadata": {},
     "output_type": "display_data"
    }
   ],
   "source": [
    "#Training accuracy and validation accuracy graph\n",
    "plt.figure(figsize=(12, 5))\n",
    "\n",
    "plt.subplot(1, 2, 1)\n",
    "plt.plot(history_CNN2['accuracy'])\n",
    "plt.plot(history_CNN2['val_accuracy'])\n",
    "plt.title('Model Accuracy')\n",
    "plt.xlabel('Epoch')\n",
    "plt.ylabel('Accuracy')\n",
    "plt.ylim(0.1, 1)\n",
    "plt.legend(['Training Accuracy', 'Validation Accuracy'], loc ='lower right')\n",
    "\n",
    "plt.subplot(1, 2, 2)\n",
    "plt.plot(history_CNN2['loss'])\n",
    "plt.plot(history_CNN2['val_loss'])\n",
    "plt.title('Model Loss')\n",
    "plt.xlabel('Epoch')\n",
    "plt.ylabel('Loss')\n",
    "plt.legend(['Training Loss', 'Validation Loss'], loc ='upper right')\n",
    "\n",
    "plt.show()"
   ]
  },
  {
   "cell_type": "code",
   "execution_count": 17,
   "metadata": {},
   "outputs": [
    {
     "name": "stderr",
     "output_type": "stream",
     "text": [
      "/environment/miniconda3/lib/python3.10/site-packages/keras/src/engine/training.py:3000: UserWarning: You are saving your model as an HDF5 file via `model.save()`. This file format is considered legacy. We recommend using instead the native Keras format, e.g. `model.save('my_model.keras')`.\n",
      "  saving_api.save_model(\n"
     ]
    }
   ],
   "source": [
    "# vgg_model.save('VGG16_model_20epochs.h5')"
   ]
  },
  {
   "cell_type": "code",
   "execution_count": 28,
   "metadata": {},
   "outputs": [
    {
     "data": {
      "image/png": "[encoded data removed]",
      "text/plain": [
       "<PIL.Image.Image image mode=RGBA size=555x74>"
      ]
     },
     "execution_count": 28,
     "metadata": {},
     "output_type": "execute_result"
    }
   ],
   "source": [
    "import visualkeras\n",
    "\n",
    "visualkeras.layered_view(vgg_model,  legend=True)"
   ]
  },
  {
   "cell_type": "code",
   "execution_count": null,
   "metadata": {},
   "outputs": [],
   "source": []
  },
  {
   "cell_type": "code",
   "execution_count": null,
   "metadata": {},
   "outputs": [],
   "source": []
  },
  {
   "cell_type": "code",
   "execution_count": null,
   "metadata": {},
   "outputs": [],
   "source": []
  },
  {
   "cell_type": "code",
   "execution_count": null,
   "metadata": {},
   "outputs": [],
   "source": []
  },
  {
   "cell_type": "code",
   "execution_count": null,
   "metadata": {},
   "outputs": [],
   "source": []
  }
 ],
 "metadata": {
  "kernelspec": {
   "display_name": "Python 3 (ipykernel)",
   "language": "python",
   "name": "python3"
  },
  "language_info": {
   "codemirror_mode": {
    "name": "ipython",
    "version": 3
   },
   "file_extension": ".py",
   "mimetype": "text/x-python",
   "name": "python",
   "nbconvert_exporter": "python",
   "pygments_lexer": "ipython3",
   "version": "3.10.12"
  }
 },
 "nbformat": 4,
 "nbformat_minor": 4
}
